{
 "cells": [
  {
   "cell_type": "code",
   "execution_count": 1,
   "metadata": {},
   "outputs": [],
   "source": [
    "from mnist import MNIST\n",
    "import torch\n",
    "import torch.nn as nn\n",
    "import torch.nn.functional as F\n",
    "import matplotlib.pyplot as plt\n",
    "import numpy as np"
   ]
  },
  {
   "cell_type": "code",
   "execution_count": null,
   "metadata": {},
   "outputs": [],
   "source": [
    "# A.3"
   ]
  },
  {
   "cell_type": "code",
   "execution_count": 2,
   "metadata": {},
   "outputs": [],
   "source": [
    "import matplotlib.pyplot as plt\n",
    "import numpy as np\n",
    "import math"
   ]
  },
  {
   "cell_type": "code",
   "execution_count": 19,
   "metadata": {},
   "outputs": [],
   "source": [
    "#actual function\n",
    "def f(x):\n",
    "    return 4*math.sin(math.pi*x)*math.cos(6*math.pi*x*x)\n",
    "\n",
    "def f_poly(x,X,alpha,d):\n",
    "    y=0\n",
    "    for j in range(len(X)):\n",
    "        y+= alpha[j]*(1+x*X[j])**d\n",
    "    return y\n",
    "\n",
    "def f_rbf(x,X,alpha,gamma):\n",
    "    y=0\n",
    "    for j in range(len(X)):\n",
    "        y += alpha[j]*math.exp(-gamma*(x-X[j])**2)\n",
    "    return y\n",
    "    \n",
    "#model\n",
    "#kernel param determines which kernel to use\n",
    "#k is the number of data points used for validation\n",
    "#k=1 part(a), k=30 for part (d)\n",
    "#d can either be degree or gamma, depending on kernel\n",
    "def f_hat(X_train,X_val,alpha,d,k,kernel):\n",
    "    prediction = np.zeros(k)\n",
    "    if kernel == 'poly':\n",
    "        for i in range(k):\n",
    "            for j in range(len(X_train)):\n",
    "                prediction[i] += alpha[j]*(1+X_val[i]*X_train[j])**d\n",
    "    if kernel == 'rbf':\n",
    "        for i in range(k):\n",
    "            for j in range(len(X_train)):\n",
    "                prediction[i] += alpha[j]*math.exp(-d*(X_val[i]-X_train[j])**2)\n",
    "    return prediction\n",
    "\n",
    "    \n",
    "#solves polynomial and rbf kernel ridge regression\n",
    "#returns alpha_hat = (K+ lam*I)^{-1}Y\n",
    "#d can either be degree or gamma depending on if kernel\n",
    "#is polynomial or rbf\n",
    "def kerRR(X,Y,lam,d,kernel):\n",
    "    n = len(X)\n",
    "    K = np.zeros((n,n))\n",
    "    for i in range(n): #initialize K\n",
    "        for j in range(n):\n",
    "            if kernel == 'poly':\n",
    "                K[i,j]=(1+X[i]*X[j])**d\n",
    "            if kernel == 'rbf':\n",
    "                K[i,j]=math.exp(-d*(X[i]-X[j])**2)\n",
    "    return np.linalg.inv(K + lam*np.eye(n)) @ Y\n",
    "\n",
    "#performs cross validation on data\n",
    "#k=num data points to leave out, eg k=1 does leave-one-out CV\n",
    "#returns best hyperparameters lambda and d\n",
    "def kerCrossVal(X,Y,k,kernel):\n",
    "    n = len(X)\n",
    "    num_validations = int(n/k)\n",
    "    d_vals = [i+1 for i in range(25)]  #d's = [1,2,...,25]\n",
    "    lam_vals = [1/(10**(5-i)) for i in range(25)] #lams = [10000,1000,...,1e-19]\n",
    "    best_d = 0  #best hyperparameter d\n",
    "    best_lam = 0  #best hyperparam lambda\n",
    "    indices = np.arange(0,n)\n",
    "    np.random.shuffle(indices)\n",
    "    error_min = -1\n",
    "    for d in d_vals:\n",
    "            for lam in lam_vals:\n",
    "                error = 0\n",
    "                #iterate through validation batches and calculate error\n",
    "                for i in range(num_validations):\n",
    "                    to_delete = indices[i*k : (i+1)*k]\n",
    "                    X2 = np.copy(X)\n",
    "                    X2 = np.delete(X2,to_delete)  #create training X\n",
    "                    Y2 = np.copy(Y)\n",
    "                    Y2 = np.delete(Y2,to_delete)  #create training Y\n",
    "                    Xtest = X[to_delete]   #create validation X\n",
    "                    Ytest = Y[to_delete]   #create validation Y\n",
    "                    alpha = kerRR(X2,Y2,lam,d,kernel)   #solve ridge reg\n",
    "                    prediction = f_hat(X2,Xtest,alpha,d,k,kernel)  #model output\n",
    "                    error+= (np.linalg.norm(Ytest-prediction)**2)/k\n",
    "                if error_min == -1:\n",
    "                    error_min = error\n",
    "                if (error < error_min):\n",
    "                    best_d = d\n",
    "                    best_lam = lam\n",
    "                    error_min = error\n",
    "    return best_d, best_lam"
   ]
  },
  {
   "cell_type": "code",
   "execution_count": 4,
   "metadata": {},
   "outputs": [],
   "source": [
    "#generate data\n",
    "n = 300\n",
    "X = np.random.uniform(0,1,n)\n",
    "err = np.random.randn(n)\n",
    "y_true = np.zeros(n)\n",
    "for i in range(n):\n",
    "    y_true[i] = f(X[i])\n",
    "Y = y_true + err"
   ]
  },
  {
   "cell_type": "code",
   "execution_count": 20,
   "metadata": {},
   "outputs": [
    {
     "name": "stdout",
     "output_type": "stream",
     "text": [
      "25 1e-05\n",
      "16 1e-05\n"
     ]
    }
   ],
   "source": [
    "#k=1 #leave one out CV\n",
    "k=30 #10-fold CV\n",
    "deg,lam_poly = kerCrossVal(X,Y,k,'poly')\n",
    "gamma,lam_rbf = kerCrossVal(X,Y,k,'rbf')\n",
    "print(deg,lam_poly)\n",
    "print(gamma,lam_rbf)"
   ]
  },
  {
   "cell_type": "code",
   "execution_count": 21,
   "metadata": {
    "scrolled": true
   },
   "outputs": [
    {
     "data": {
      "text/plain": [
       "<matplotlib.legend.Legend at 0x7fcc5d3ac700>"
      ]
     },
     "execution_count": 21,
     "metadata": {},
     "output_type": "execute_result"
    },
    {
     "data": {
      "image/png": "[encoded data removed]",
      "text/plain": [
       "<Figure size 432x288 with 1 Axes>"
      ]
     },
     "metadata": {
      "needs_background": "light"
     },
     "output_type": "display_data"
    }
   ],
   "source": [
    "def f_poly(x,X,alpha,d):\n",
    "    y=0\n",
    "    for j in range(len(X)):\n",
    "        y+= alpha[j]*(1+x*X[j])**d\n",
    "    return y\n",
    "\n",
    "def f_rbf(x,X,alpha,gamma):\n",
    "    y=0\n",
    "    for j in range(len(X)):\n",
    "        y += alpha[j]*math.exp(-gamma*(x-X[j])**2)\n",
    "    return y\n",
    "\n",
    "mesh = np.arange(0,1,.001)\n",
    "\n",
    "alpha_poly = kerRR(X,Y,lam_poly,deg,'poly')\n",
    "alpha_rbf = kerRR(X,Y,lam_rbf,gamma,'rbf')\n",
    "\n",
    "poly_model = [f_poly(mesh[j],X,alpha_poly,deg) for j in range(1000)]\n",
    "rbf_model = [f_rbf(mesh[j],X,alpha_rbf,gamma) for j in range(1000)]\n",
    "\n",
    "plt.plot(mesh,[f(mesh[j]) for j in range(1000)],label='f(x)')\n",
    "plt.scatter(X,Y,label='Data')\n",
    "plt.plot(mesh, poly_model,label='Polynomial Model')\n",
    "plt.plot(mesh, rbf_model,label='RBF Model')\n",
    "plt.ylim((-10,10))\n",
    "plt.legend()"
   ]
  },
  {
   "cell_type": "code",
   "execution_count": 22,
   "metadata": {},
   "outputs": [],
   "source": [
    "#generate samples for polynomial RR\n",
    "alpha_params_poly = np.zeros((300,n))\n",
    "Xsamples_poly = np.zeros((300,n))\n",
    "Ysamples_poly = np.zeros((300,n))\n",
    "for i in range(300):\n",
    "    for j in range(n):\n",
    "        k = np.random.randint(0,n)\n",
    "        Xsamples_poly[i,j] = X[k]\n",
    "        Ysamples_poly[i,j] = Y[k]\n",
    "    alpha_params_poly[i,:] = kerRR(Xsamples_poly[i,:],Ysamples_poly[i,:],lam_poly,deg,'poly')\n",
    "    \n",
    "#generate samples for rbf RR\n",
    "alpha_params_rbf = np.zeros((300,n))\n",
    "Xsamples_rbf = np.zeros((300,n))\n",
    "Ysamples_rbf = np.zeros((300,n))\n",
    "for i in range(300):\n",
    "    for j in range(n):\n",
    "        k = np.random.randint(0,n)\n",
    "        Xsamples_rbf[i,j] = X[k]\n",
    "        Ysamples_rbf[i,j] = Y[k]\n",
    "    alpha_params_rbf[i,:] = kerRR(Xsamples_rbf[i,:],Ysamples_rbf[i,:],lam_rbf,gamma,'rbf')"
   ]
  },
  {
   "cell_type": "code",
   "execution_count": 23,
   "metadata": {},
   "outputs": [],
   "source": [
    "#calculate 5th and 95th percentiles\n",
    "p5_poly = np.zeros(1000)\n",
    "p95_poly = np.zeros(1000)\n",
    "p5_rbf = np.zeros(1000)\n",
    "p95_rbf = np.zeros(1000)\n",
    "\n",
    "for i in range(1000):\n",
    "    x_i = np.array([mesh[i]]) \n",
    "    predictions_poly = np.zeros(300)\n",
    "    predictions_rbf = np.zeros(300)\n",
    "    \n",
    "    for j in range(300):\n",
    "        predictions_poly[j] = f_hat(Xsamples_poly[j,:],x_i,alpha_params_poly[j,:],deg,1,'poly')\n",
    "        predictions_rbf[j] = f_hat(Xsamples_rbf[j,:],x_i,alpha_params_rbf[j,:],gamma,1,'rbf')\n",
    "    \n",
    "    predictions_poly = np.sort(predictions_poly)\n",
    "    predictions_rbf = np.sort(predictions_rbf)\n",
    "    \n",
    "    p5_poly[i] = predictions_poly[14]\n",
    "    p95_poly[i] = predictions_poly[284]\n",
    "    p5_rbf[i] = predictions_rbf[14]\n",
    "    p95_rbf[i] = predictions_rbf[284]"
   ]
  },
  {
   "cell_type": "code",
   "execution_count": 24,
   "metadata": {
    "scrolled": true
   },
   "outputs": [
    {
     "data": {
      "text/plain": [
       "<matplotlib.legend.Legend at 0x7fcc5debbbb0>"
      ]
     },
     "execution_count": 24,
     "metadata": {},
     "output_type": "execute_result"
    },
    {
     "data": {
      "image/png": "[encoded data removed]",
      "text/plain": [
       "<Figure size 432x288 with 1 Axes>"
      ]
     },
     "metadata": {
      "needs_background": "light"
     },
     "output_type": "display_data"
    }
   ],
   "source": [
    "#plot polynomial RR\n",
    "plt.plot(mesh,[f(mesh[j]) for j in range(1000)],label='f(x)')\n",
    "plt.scatter(X,Y,label='Data')\n",
    "plt.plot(mesh, poly_model,label='Polynomial Model')\n",
    "plt.plot(mesh, p5_poly, label='5th Percentile')\n",
    "plt.plot(mesh, p95_poly, label='95th Percentile')\n",
    "plt.ylim((-10,10))\n",
    "plt.legend()"
   ]
  },
  {
   "cell_type": "code",
   "execution_count": 1,
   "metadata": {
    "scrolled": true
   },
   "outputs": [
    {
     "ename": "NameError",
     "evalue": "name 'plt' is not defined",
     "output_type": "error",
     "traceback": [
      "\u001b[0;31m---------------------------------------------------------------------------\u001b[0m",
      "\u001b[0;31mNameError\u001b[0m                                 Traceback (most recent call last)",
      "\u001b[0;32m<ipython-input-1-789e445d6087>\u001b[0m in \u001b[0;36m<module>\u001b[0;34m\u001b[0m\n\u001b[1;32m      1\u001b[0m \u001b[0;31m#plot rbf RR\u001b[0m\u001b[0;34m\u001b[0m\u001b[0;34m\u001b[0m\u001b[0;34m\u001b[0m\u001b[0m\n\u001b[0;32m----> 2\u001b[0;31m \u001b[0mplt\u001b[0m\u001b[0;34m.\u001b[0m\u001b[0mplot\u001b[0m\u001b[0;34m(\u001b[0m\u001b[0mmesh\u001b[0m\u001b[0;34m,\u001b[0m\u001b[0;34m[\u001b[0m\u001b[0mf\u001b[0m\u001b[0;34m(\u001b[0m\u001b[0mmesh\u001b[0m\u001b[0;34m[\u001b[0m\u001b[0mj\u001b[0m\u001b[0;34m]\u001b[0m\u001b[0;34m)\u001b[0m \u001b[0;32mfor\u001b[0m \u001b[0mj\u001b[0m \u001b[0;32min\u001b[0m \u001b[0mrange\u001b[0m\u001b[0;34m(\u001b[0m\u001b[0;36m1000\u001b[0m\u001b[0;34m)\u001b[0m\u001b[0;34m]\u001b[0m\u001b[0;34m,\u001b[0m\u001b[0mlabel\u001b[0m\u001b[0;34m=\u001b[0m\u001b[0;34m'f(x)'\u001b[0m\u001b[0;34m)\u001b[0m\u001b[0;34m\u001b[0m\u001b[0;34m\u001b[0m\u001b[0m\n\u001b[0m\u001b[1;32m      3\u001b[0m \u001b[0mplt\u001b[0m\u001b[0;34m.\u001b[0m\u001b[0mscatter\u001b[0m\u001b[0;34m(\u001b[0m\u001b[0mX\u001b[0m\u001b[0;34m,\u001b[0m\u001b[0mY\u001b[0m\u001b[0;34m,\u001b[0m\u001b[0mlabel\u001b[0m\u001b[0;34m=\u001b[0m\u001b[0;34m'Data'\u001b[0m\u001b[0;34m)\u001b[0m\u001b[0;34m\u001b[0m\u001b[0;34m\u001b[0m\u001b[0m\n\u001b[1;32m      4\u001b[0m \u001b[0mplt\u001b[0m\u001b[0;34m.\u001b[0m\u001b[0mplot\u001b[0m\u001b[0;34m(\u001b[0m\u001b[0mmesh\u001b[0m\u001b[0;34m,\u001b[0m \u001b[0mrbf_model\u001b[0m\u001b[0;34m,\u001b[0m\u001b[0mlabel\u001b[0m\u001b[0;34m=\u001b[0m\u001b[0;34m'RBF Model'\u001b[0m\u001b[0;34m)\u001b[0m\u001b[0;34m\u001b[0m\u001b[0;34m\u001b[0m\u001b[0m\n\u001b[1;32m      5\u001b[0m \u001b[0mplt\u001b[0m\u001b[0;34m.\u001b[0m\u001b[0mplot\u001b[0m\u001b[0;34m(\u001b[0m\u001b[0mmesh\u001b[0m\u001b[0;34m,\u001b[0m \u001b[0mp5_rbf\u001b[0m\u001b[0;34m,\u001b[0m \u001b[0mlabel\u001b[0m\u001b[0;34m=\u001b[0m\u001b[0;34m'5th Percentile'\u001b[0m\u001b[0;34m)\u001b[0m\u001b[0;34m\u001b[0m\u001b[0;34m\u001b[0m\u001b[0m\n",
      "\u001b[0;31mNameError\u001b[0m: name 'plt' is not defined"
     ]
    }
   ],
   "source": [
    "#plot rbf RR\n",
    "plt.plot(mesh,[f(mesh[j]) for j in range(1000)],label='f(x)')\n",
    "plt.scatter(X,Y,label='Data')\n",
    "plt.plot(mesh, rbf_model,label='RBF Model')\n",
    "plt.plot(mesh, p5_rbf, label='5th Percentile')\n",
    "plt.plot(mesh, p95_rbf, label='95th Percentile')\n",
    "plt.ylim((-10,10))\n",
    "plt.legend()"
   ]
  },
  {
   "cell_type": "code",
   "execution_count": 16,
   "metadata": {},
   "outputs": [],
   "source": [
    "m=1000\n",
    "X=np.random.uniform(0,1,m)\n",
    "Ytrue = np.zeros(m)\n",
    "for i in range(m):\n",
    "    Ytrue[i] = f(X[i])\n",
    "Y = np.zeros(m)\n",
    "errors = np.random.randn(m)\n",
    "Y = Ytrue + errors"
   ]
  },
  {
   "cell_type": "code",
   "execution_count": 20,
   "metadata": {},
   "outputs": [
    {
     "data": {
      "text/plain": [
       "(0.027591983282914498, 0.08888975202271376)"
      ]
     },
     "execution_count": 20,
     "metadata": {},
     "output_type": "execute_result"
    }
   ],
   "source": [
    "alpha_poly = kerRR(X,Y,1e-5,25,'poly')\n",
    "alpha_rbf = kerRR(X,Y,1e-5,16,'rbf')\n",
    "\n",
    "expected = np.zeros(300)\n",
    "for i in range(300):\n",
    "    Xsamples = list()\n",
    "    Ysamples = list()\n",
    "    pred_rbf = np.zeros(m)\n",
    "    pred_poly = np.zeros(m)\n",
    "    for j in range(m):\n",
    "        k = np.random.randint(0,n)\n",
    "        Xsamples.append(X[k])\n",
    "        Ysamples.append(Y[k])\n",
    "        pred_rbf[j] = f_rbf(X[k],X,alpha_rbf,16)\n",
    "        pred_poly[j] = f_poly(X[k],X,alpha_poly,25)\n",
    "    expected[i] = ((pred_poly-Ysamples).dot(pred_poly-Ysamples) - (pred_rbf-Ysamples).dot(pred_rbf-Ysamples))/m\n",
    "expected = np.sort(expected)\n",
    "expected[14], expected[284]"
   ]
  },
  {
   "cell_type": "code",
   "execution_count": null,
   "metadata": {},
   "outputs": [],
   "source": [
    "# A.4"
   ]
  },
  {
   "cell_type": "code",
   "execution_count": 3,
   "metadata": {},
   "outputs": [],
   "source": [
    "def load_dataset():\n",
    "    mndata = MNIST('/Users/joseph/Courses/cse546/hw2/mnist')\n",
    "    X_train, labels_train = map(np.array, mndata.load_training())\n",
    "    X_test, labels_test = map(np.array, mndata.load_testing())\n",
    "    X_train = X_train/255.0\n",
    "    X_test = X_test/255.0\n",
    "    return [X_train, labels_train, X_test, labels_test]\n",
    "\n",
    "[X_train, labels_train, X_test, labels_test] = load_dataset()\n",
    "X_train = torch.from_numpy(X_train).float()\n",
    "labels_train = torch.from_numpy(labels_train)\n",
    "X_test = torch.from_numpy(X_test).float()\n",
    "labels_test = torch.from_numpy(labels_test)"
   ]
  },
  {
   "cell_type": "code",
   "execution_count": 4,
   "metadata": {},
   "outputs": [],
   "source": [
    "n, k, d, h = 60000, 10, 784, 64\n",
    "n2 = 10000\n",
    "step_size = .01\n",
    "losses=[]\n",
    "\n",
    "W0 = torch.empty(h,d,requires_grad=True)\n",
    "W1 = torch.empty(k,h,requires_grad=True)\n",
    "b0 = torch.empty(h,1,requires_grad=True)\n",
    "b1 = torch.empty(k,1,requires_grad=True)\n",
    "\n",
    "nn.init.uniform_(W0,-1/np.sqrt(h),1/np.sqrt(h))\n",
    "nn.init.uniform_(b0,-1/np.sqrt(h),1/np.sqrt(h))\n",
    "nn.init.uniform_(W1,-1/np.sqrt(k),1/np.sqrt(k))\n",
    "nn.init.uniform_(b1,-1/np.sqrt(k),1/np.sqrt(k))\n",
    "\n",
    "optimizer = torch.optim.Adam([W0,b0,W1,b1], lr=step_size)\n",
    "\n",
    "def model(X,W0,b0,W1,b1):\n",
    "    temp = W0 @ torch.transpose(X,0,1)\n",
    "    for i in range(n):\n",
    "        temp[:,i] = temp[:,i] + torch.transpose(b0,0,1)\n",
    "    temp = W1 @ nn.functional.relu(temp)\n",
    "    for i in range(n):\n",
    "        temp[:,i] = temp[:,i] + torch.transpose(b1,0,1)\n",
    "    return temp"
   ]
  },
  {
   "cell_type": "code",
   "execution_count": null,
   "metadata": {},
   "outputs": [
    {
     "name": "stdout",
     "output_type": "stream",
     "text": [
      "tensor(2.3917, grad_fn=<NllLossBackward>)\n",
      "tensor(1.7633, grad_fn=<NllLossBackward>)\n"
     ]
    }
   ],
   "source": [
    "for i in range(10):\n",
    "    y_hat = torch.transpose(model(X_train,W0,b0,W1,b1),0,1)\n",
    "    loss = nn.functional.cross_entropy(y_hat,labels_train)\n",
    "    losses.append(loss)\n",
    "    \n",
    "    optimizer.zero_grad()\n",
    "    loss.backward()\n",
    "    \n",
    "    optimizer.step()\n",
    "    print(loss)"
   ]
  },
  {
   "cell_type": "code",
   "execution_count": 47,
   "metadata": {
    "scrolled": true
   },
   "outputs": [
    {
     "data": {
      "text/plain": [
       "torch.Size([60000, 784])"
      ]
     },
     "execution_count": 47,
     "metadata": {},
     "output_type": "execute_result"
    }
   ],
   "source": [
    "X_train.shape"
   ]
  },
  {
   "cell_type": "code",
   "execution_count": null,
   "metadata": {},
   "outputs": [],
   "source": [
    "# A.5"
   ]
  },
  {
   "cell_type": "code",
   "execution_count": 26,
   "metadata": {},
   "outputs": [],
   "source": []
  },
  {
   "cell_type": "code",
   "execution_count": 6,
   "metadata": {},
   "outputs": [],
   "source": [
    "import torch\n",
    "import torchvision \n",
    "import torchvision.transforms as transforms\n",
    "import torchvision.models as models\n",
    "import torch.nn as nn\n",
    "from torch.utils.data import DataLoader, random_split\n",
    "import numpy as np\n",
    "import matplotlib.pyplot as plt"
   ]
  },
  {
   "cell_type": "code",
   "execution_count": 20,
   "metadata": {
    "scrolled": true
   },
   "outputs": [
    {
     "name": "stdout",
     "output_type": "stream",
     "text": [
      "Files already downloaded and verified\n",
      "Files already downloaded and verified\n"
     ]
    }
   ],
   "source": [
    "transform = transforms.Compose([\n",
    "    transforms.Resize(256),\n",
    "    transforms.CenterCrop(224),\n",
    "    transforms.ToTensor(), \n",
    "    transforms.Normalize(mean = [.485,.456,.406], std=[.229,.224,.225])]\n",
    ")\n",
    "\n",
    "train_data = torchvision.datasets.CIFAR10(root='cifar-10-batches.py', train=True, download=True, transform=transform)\n",
    "train, val = random_split(train_data,[45000,5000])\n",
    "\n",
    "trainloader = torch.utils.data.DataLoader(train, batch_size=16, shuffle=True)\n",
    "valloader = torch.utils.data.DataLoader(val, batch_size=16, shuffle=True)\n",
    "\n",
    "test_data = torchvision.datasets.CIFAR10(root='cifar-10-batches.py', train=False, download=True, transform=transform)\n",
    "testloader = torch.utils.data.DataLoader(test_data, batch_size=4, shuffle=False, num_workers=2)"
   ]
  },
  {
   "cell_type": "code",
   "execution_count": 21,
   "metadata": {},
   "outputs": [
    {
     "data": {
      "text/plain": [
       "Dataset CIFAR10\n",
       "    Number of datapoints: 50000\n",
       "    Root location: cifar-10-batches.py\n",
       "    Split: Train\n",
       "    StandardTransform\n",
       "Transform: Compose(\n",
       "               Resize(size=256, interpolation=PIL.Image.BILINEAR)\n",
       "               CenterCrop(size=(224, 224))\n",
       "               ToTensor()\n",
       "               Normalize(mean=[0.485, 0.456, 0.406], std=[0.229, 0.224, 0.225])\n",
       "           )"
      ]
     },
     "execution_count": 21,
     "metadata": {},
     "output_type": "execute_result"
    }
   ],
   "source": [
    "train_data"
   ]
  },
  {
   "cell_type": "code",
   "execution_count": 22,
   "metadata": {},
   "outputs": [],
   "source": [
    "model = torchvision.models.alexnet(pretrained=True)\n",
    "for param in model.parameters():\n",
    "    param.requires_grad=False\n",
    "model.classifier[6] = nn.Linear(4096,10)\n",
    "\n",
    "optimizer = torch.optim.Adam(model.parameters(), lr=1e-2)\n",
    "\n",
    "losses_train=[]\n",
    "losses_val=[]"
   ]
  },
  {
   "cell_type": "code",
   "execution_count": 25,
   "metadata": {},
   "outputs": [
    {
     "ename": "KeyboardInterrupt",
     "evalue": "",
     "output_type": "error",
     "traceback": [
      "\u001b[0;31m---------------------------------------------------------------------------\u001b[0m",
      "\u001b[0;31mKeyboardInterrupt\u001b[0m                         Traceback (most recent call last)",
      "\u001b[0;32m<ipython-input-25-c9017e2d1901>\u001b[0m in \u001b[0;36m<module>\u001b[0;34m\u001b[0m\n\u001b[1;32m      9\u001b[0m \u001b[0;34m\u001b[0m\u001b[0m\n\u001b[1;32m     10\u001b[0m         \u001b[0moptimizer\u001b[0m\u001b[0;34m.\u001b[0m\u001b[0mzero_grad\u001b[0m\u001b[0;34m(\u001b[0m\u001b[0;34m)\u001b[0m\u001b[0;34m\u001b[0m\u001b[0;34m\u001b[0m\u001b[0m\n\u001b[0;32m---> 11\u001b[0;31m         \u001b[0mloss_train\u001b[0m\u001b[0;34m.\u001b[0m\u001b[0mbackward\u001b[0m\u001b[0;34m(\u001b[0m\u001b[0;34m)\u001b[0m\u001b[0;34m\u001b[0m\u001b[0;34m\u001b[0m\u001b[0m\n\u001b[0m\u001b[1;32m     12\u001b[0m \u001b[0;34m\u001b[0m\u001b[0m\n\u001b[1;32m     13\u001b[0m         \u001b[0moptimizer\u001b[0m\u001b[0;34m.\u001b[0m\u001b[0mstep\u001b[0m\u001b[0;34m(\u001b[0m\u001b[0;34m)\u001b[0m\u001b[0;34m\u001b[0m\u001b[0;34m\u001b[0m\u001b[0m\n",
      "\u001b[0;32m~/opt/anaconda3/lib/python3.8/site-packages/torch/tensor.py\u001b[0m in \u001b[0;36mbackward\u001b[0;34m(self, gradient, retain_graph, create_graph)\u001b[0m\n\u001b[1;32m    219\u001b[0m                 \u001b[0mretain_graph\u001b[0m\u001b[0;34m=\u001b[0m\u001b[0mretain_graph\u001b[0m\u001b[0;34m,\u001b[0m\u001b[0;34m\u001b[0m\u001b[0;34m\u001b[0m\u001b[0m\n\u001b[1;32m    220\u001b[0m                 create_graph=create_graph)\n\u001b[0;32m--> 221\u001b[0;31m         \u001b[0mtorch\u001b[0m\u001b[0;34m.\u001b[0m\u001b[0mautograd\u001b[0m\u001b[0;34m.\u001b[0m\u001b[0mbackward\u001b[0m\u001b[0;34m(\u001b[0m\u001b[0mself\u001b[0m\u001b[0;34m,\u001b[0m \u001b[0mgradient\u001b[0m\u001b[0;34m,\u001b[0m \u001b[0mretain_graph\u001b[0m\u001b[0;34m,\u001b[0m \u001b[0mcreate_graph\u001b[0m\u001b[0;34m)\u001b[0m\u001b[0;34m\u001b[0m\u001b[0;34m\u001b[0m\u001b[0m\n\u001b[0m\u001b[1;32m    222\u001b[0m \u001b[0;34m\u001b[0m\u001b[0m\n\u001b[1;32m    223\u001b[0m     \u001b[0;32mdef\u001b[0m \u001b[0mregister_hook\u001b[0m\u001b[0;34m(\u001b[0m\u001b[0mself\u001b[0m\u001b[0;34m,\u001b[0m \u001b[0mhook\u001b[0m\u001b[0;34m)\u001b[0m\u001b[0;34m:\u001b[0m\u001b[0;34m\u001b[0m\u001b[0;34m\u001b[0m\u001b[0m\n",
      "\u001b[0;32m~/opt/anaconda3/lib/python3.8/site-packages/torch/autograd/__init__.py\u001b[0m in \u001b[0;36mbackward\u001b[0;34m(tensors, grad_tensors, retain_graph, create_graph, grad_variables)\u001b[0m\n\u001b[1;32m    128\u001b[0m         \u001b[0mretain_graph\u001b[0m \u001b[0;34m=\u001b[0m \u001b[0mcreate_graph\u001b[0m\u001b[0;34m\u001b[0m\u001b[0;34m\u001b[0m\u001b[0m\n\u001b[1;32m    129\u001b[0m \u001b[0;34m\u001b[0m\u001b[0m\n\u001b[0;32m--> 130\u001b[0;31m     Variable._execution_engine.run_backward(\n\u001b[0m\u001b[1;32m    131\u001b[0m         \u001b[0mtensors\u001b[0m\u001b[0;34m,\u001b[0m \u001b[0mgrad_tensors_\u001b[0m\u001b[0;34m,\u001b[0m \u001b[0mretain_graph\u001b[0m\u001b[0;34m,\u001b[0m \u001b[0mcreate_graph\u001b[0m\u001b[0;34m,\u001b[0m\u001b[0;34m\u001b[0m\u001b[0;34m\u001b[0m\u001b[0m\n\u001b[1;32m    132\u001b[0m         allow_unreachable=True)  # allow_unreachable flag\n",
      "\u001b[0;31mKeyboardInterrupt\u001b[0m: "
     ]
    }
   ],
   "source": [
    "epochs = 100\n",
    "for i in range(epochs):\n",
    "    for images, labels in trainloader:\n",
    "        images = images.cuda()\n",
    "        labels = labels.cuda()\n",
    "        y_hat = model(images)\n",
    "    \n",
    "        loss_train = nn.functional.cross_entropy(y_hat,labels)\n",
    "\n",
    "        losses_train.append(loss_train.item())\n",
    "    \n",
    "        optimizer.zero_grad()\n",
    "        loss_train.backward()\n",
    "    \n",
    "        optimizer.step()\n",
    "    print(f'Epoch {epoch+1} training loss: {J.item()}')\n",
    "    \n",
    "    for images, labels in valloader:\n",
    "        images = images.cuda()\n",
    "        labels = labels.cuda()\n",
    "        with torch.no_grad():\n",
    "            y_hat = model(images)\n",
    "            \n",
    "        loss_val = nn.functional.cross_entropy(y_hat,labels)\n",
    "        losses_val.append(loss_val.item())\n",
    "    print(f'Epoch {epoch+1} validation loss: {J.item()}')"
   ]
  }
 ],
 "metadata": {
  "kernelspec": {
   "display_name": "Python 3",
   "language": "python",
   "name": "python3"
  },
  "language_info": {
   "codemirror_mode": {
    "name": "ipython",
    "version": 3
   },
   "file_extension": ".py",
   "mimetype": "text/x-python",
   "name": "python",
   "nbconvert_exporter": "python",
   "pygments_lexer": "ipython3",
   "version": "3.8.5"
  }
 },
 "nbformat": 4,
 "nbformat_minor": 4
}
